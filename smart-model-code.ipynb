{
 "cells": [
  {
   "cell_type": "markdown",
   "id": "c0bc47d5",
   "metadata": {
    "papermill": {
     "duration": 0.007376,
     "end_time": "2022-05-28T03:53:14.133968",
     "exception": false,
     "start_time": "2022-05-28T03:53:14.126592",
     "status": "completed"
    },
    "tags": []
   },
   "source": [
    "### SMART Prototype Infrastructure\n",
    "\n",
    "---\n",
    "\n",
    "Feel free to test our model out by training and checking the model accuracy"
   ]
  },
  {
   "cell_type": "code",
   "execution_count": 1,
   "id": "81bf3157",
   "metadata": {
    "_cell_guid": "b1076dfc-b9ad-4769-8c92-a6c4dae69d19",
    "_uuid": "8f2839f25d086af736a60e9eeb907d3b93b6e0e5",
    "execution": {
     "iopub.execute_input": "2022-05-28T03:53:14.144419Z",
     "iopub.status.busy": "2022-05-28T03:53:14.143826Z",
     "iopub.status.idle": "2022-05-28T03:53:22.010276Z",
     "shell.execute_reply": "2022-05-28T03:53:22.009266Z"
    },
    "papermill": {
     "duration": 7.874553,
     "end_time": "2022-05-28T03:53:22.012833",
     "exception": false,
     "start_time": "2022-05-28T03:53:14.138280",
     "status": "completed"
    },
    "tags": []
   },
   "outputs": [],
   "source": [
    "#Written by Muhammad-Tameem Mughal with assistance from Darien Schettler\n",
    "\n",
    "import pandas as pd\n",
    "import numpy as np\n",
    "\n",
    "# Make numpy values easier to read.\n",
    "np.set_printoptions(precision=3, suppress=True)\n",
    "\n",
    "import tensorflow as tf\n",
    "from tensorflow.keras import layers\n",
    "\n",
    "import sklearn\n",
    "from sklearn.model_selection import train_test_split\n",
    "import random\n",
    "import pandas as pd\n",
    "import matplotlib.pyplot as plt\n",
    "from sklearn.model_selection import cross_val_score\n",
    "from sklearn.tree import DecisionTreeClassifier\n",
    "from sklearn.preprocessing import PolynomialFeatures\n",
    "import sys"
   ]
  },
  {
   "cell_type": "code",
   "execution_count": 2,
   "id": "b3cda287",
   "metadata": {
    "execution": {
     "iopub.execute_input": "2022-05-28T03:53:22.022542Z",
     "iopub.status.busy": "2022-05-28T03:53:22.021858Z",
     "iopub.status.idle": "2022-05-28T03:53:22.085278Z",
     "shell.execute_reply": "2022-05-28T03:53:22.084167Z"
    },
    "papermill": {
     "duration": 0.071779,
     "end_time": "2022-05-28T03:53:22.088744",
     "exception": false,
     "start_time": "2022-05-28T03:53:22.016965",
     "status": "completed"
    },
    "tags": []
   },
   "outputs": [
    {
     "data": {
      "text/html": [
       "<div>\n",
       "<style scoped>\n",
       "    .dataframe tbody tr th:only-of-type {\n",
       "        vertical-align: middle;\n",
       "    }\n",
       "\n",
       "    .dataframe tbody tr th {\n",
       "        vertical-align: top;\n",
       "    }\n",
       "\n",
       "    .dataframe thead th {\n",
       "        text-align: right;\n",
       "    }\n",
       "</style>\n",
       "<table border=\"1\" class=\"dataframe\">\n",
       "  <thead>\n",
       "    <tr style=\"text-align: right;\">\n",
       "      <th></th>\n",
       "      <th>smiles</th>\n",
       "      <th>SR-HSE</th>\n",
       "      <th>NR-AR</th>\n",
       "      <th>SR-ARE</th>\n",
       "      <th>NR-Aromatase</th>\n",
       "      <th>NR-ER-LBD</th>\n",
       "      <th>NR-AhR</th>\n",
       "      <th>SR-MMP</th>\n",
       "      <th>NR-ER</th>\n",
       "      <th>NR-PPAR-gamma</th>\n",
       "      <th>SR-p53</th>\n",
       "      <th>SR-ATAD5</th>\n",
       "      <th>NR-AR-LBD</th>\n",
       "      <th>Toxic</th>\n",
       "    </tr>\n",
       "  </thead>\n",
       "  <tbody>\n",
       "    <tr>\n",
       "      <th>0</th>\n",
       "      <td>C[n+]1c2cc(N)ccc2cc2ccc(N)cc21.Nc1ccc2cc3ccc(N...</td>\n",
       "      <td>0</td>\n",
       "      <td>2</td>\n",
       "      <td>2</td>\n",
       "      <td>2</td>\n",
       "      <td>2</td>\n",
       "      <td>2</td>\n",
       "      <td>2</td>\n",
       "      <td>2</td>\n",
       "      <td>2</td>\n",
       "      <td>2</td>\n",
       "      <td>2</td>\n",
       "      <td>2</td>\n",
       "      <td>0</td>\n",
       "    </tr>\n",
       "    <tr>\n",
       "      <th>1</th>\n",
       "      <td>O=C([O-])c1ccccc1-c1c2cc(Br)c(=O)c(Br)c-2oc2c(...</td>\n",
       "      <td>0</td>\n",
       "      <td>2</td>\n",
       "      <td>2</td>\n",
       "      <td>2</td>\n",
       "      <td>2</td>\n",
       "      <td>2</td>\n",
       "      <td>2</td>\n",
       "      <td>2</td>\n",
       "      <td>2</td>\n",
       "      <td>2</td>\n",
       "      <td>2</td>\n",
       "      <td>2</td>\n",
       "      <td>0</td>\n",
       "    </tr>\n",
       "    <tr>\n",
       "      <th>2</th>\n",
       "      <td>CO[C@H]1CC(O[C@H]2C[C@H]([C@H]3O[C@](C)(O)[C@H...</td>\n",
       "      <td>0</td>\n",
       "      <td>2</td>\n",
       "      <td>2</td>\n",
       "      <td>2</td>\n",
       "      <td>2</td>\n",
       "      <td>2</td>\n",
       "      <td>2</td>\n",
       "      <td>2</td>\n",
       "      <td>2</td>\n",
       "      <td>2</td>\n",
       "      <td>2</td>\n",
       "      <td>2</td>\n",
       "      <td>0</td>\n",
       "    </tr>\n",
       "    <tr>\n",
       "      <th>3</th>\n",
       "      <td>CN(C)c1ccc(C(=C2C=CC(=[N+](C)C)C=C2)c2ccccc2)c...</td>\n",
       "      <td>1</td>\n",
       "      <td>2</td>\n",
       "      <td>2</td>\n",
       "      <td>2</td>\n",
       "      <td>2</td>\n",
       "      <td>2</td>\n",
       "      <td>2</td>\n",
       "      <td>2</td>\n",
       "      <td>2</td>\n",
       "      <td>2</td>\n",
       "      <td>2</td>\n",
       "      <td>2</td>\n",
       "      <td>0</td>\n",
       "    </tr>\n",
       "    <tr>\n",
       "      <th>4</th>\n",
       "      <td>CC(=O)O.CCNC(=O)[C@@H]1CCCN1C(=O)[C@H](CCCNC(=...</td>\n",
       "      <td>2</td>\n",
       "      <td>0</td>\n",
       "      <td>2</td>\n",
       "      <td>2</td>\n",
       "      <td>2</td>\n",
       "      <td>2</td>\n",
       "      <td>2</td>\n",
       "      <td>2</td>\n",
       "      <td>2</td>\n",
       "      <td>2</td>\n",
       "      <td>2</td>\n",
       "      <td>2</td>\n",
       "      <td>0</td>\n",
       "    </tr>\n",
       "  </tbody>\n",
       "</table>\n",
       "</div>"
      ],
      "text/plain": [
       "                                              smiles  SR-HSE  NR-AR  SR-ARE  \\\n",
       "0  C[n+]1c2cc(N)ccc2cc2ccc(N)cc21.Nc1ccc2cc3ccc(N...       0      2       2   \n",
       "1  O=C([O-])c1ccccc1-c1c2cc(Br)c(=O)c(Br)c-2oc2c(...       0      2       2   \n",
       "2  CO[C@H]1CC(O[C@H]2C[C@H]([C@H]3O[C@](C)(O)[C@H...       0      2       2   \n",
       "3  CN(C)c1ccc(C(=C2C=CC(=[N+](C)C)C=C2)c2ccccc2)c...       1      2       2   \n",
       "4  CC(=O)O.CCNC(=O)[C@@H]1CCCN1C(=O)[C@H](CCCNC(=...       2      0       2   \n",
       "\n",
       "   NR-Aromatase  NR-ER-LBD  NR-AhR  SR-MMP  NR-ER  NR-PPAR-gamma  SR-p53  \\\n",
       "0             2          2       2       2      2              2       2   \n",
       "1             2          2       2       2      2              2       2   \n",
       "2             2          2       2       2      2              2       2   \n",
       "3             2          2       2       2      2              2       2   \n",
       "4             2          2       2       2      2              2       2   \n",
       "\n",
       "   SR-ATAD5  NR-AR-LBD  Toxic  \n",
       "0         2          2      0  \n",
       "1         2          2      0  \n",
       "2         2          2      0  \n",
       "3         2          2      0  \n",
       "4         2          2      0  "
      ]
     },
     "execution_count": 2,
     "metadata": {},
     "output_type": "execute_result"
    }
   ],
   "source": [
    "import pandas as pd\n",
    "tox_df = pd.read_csv('/kaggle/input/tcfinalit2/tcfinalit2.csv')\n",
    "tox_df.head()"
   ]
  },
  {
   "cell_type": "code",
   "execution_count": 3,
   "id": "ba58a3fa",
   "metadata": {
    "execution": {
     "iopub.execute_input": "2022-05-28T03:53:22.099570Z",
     "iopub.status.busy": "2022-05-28T03:53:22.099151Z",
     "iopub.status.idle": "2022-05-28T03:53:22.104245Z",
     "shell.execute_reply": "2022-05-28T03:53:22.103566Z"
    },
    "papermill": {
     "duration": 0.012698,
     "end_time": "2022-05-28T03:53:22.106141",
     "exception": false,
     "start_time": "2022-05-28T03:53:22.093443",
     "status": "completed"
    },
    "tags": []
   },
   "outputs": [
    {
     "name": "stdout",
     "output_type": "stream",
     "text": [
      "Index(['smiles', 'SR-HSE', 'NR-AR', 'SR-ARE', 'NR-Aromatase', 'NR-ER-LBD',\n",
      "       'NR-AhR', 'SR-MMP', 'NR-ER', 'NR-PPAR-gamma', 'SR-p53', 'SR-ATAD5',\n",
      "       'NR-AR-LBD', 'Toxic'],\n",
      "      dtype='object')\n"
     ]
    }
   ],
   "source": [
    "print(tox_df.columns)"
   ]
  },
  {
   "cell_type": "code",
   "execution_count": 4,
   "id": "11911830",
   "metadata": {
    "execution": {
     "iopub.execute_input": "2022-05-28T03:53:22.116723Z",
     "iopub.status.busy": "2022-05-28T03:53:22.115714Z",
     "iopub.status.idle": "2022-05-28T03:53:22.121191Z",
     "shell.execute_reply": "2022-05-28T03:53:22.120111Z"
    },
    "papermill": {
     "duration": 0.012807,
     "end_time": "2022-05-28T03:53:22.123151",
     "exception": false,
     "start_time": "2022-05-28T03:53:22.110344",
     "status": "completed"
    },
    "tags": []
   },
   "outputs": [],
   "source": [
    "# Smiles representation and chemical tests\n",
    "SMILES_COL = [\"smiles\",]\n",
    "FEATURE_COLS = ['SR-HSE', 'NR-AR', 'SR-ARE', 'NR-Aromatase', 'NR-ER-LBD', 'NR-AhR',\n",
    "                'SR-MMP', 'NR-ER', 'NR-PPAR-gamma', 'SR-p53', 'SR-ATAD5', 'NR-AR-LBD']\n",
    "LABEL_COLS = ['Toxic',]"
   ]
  },
  {
   "cell_type": "markdown",
   "id": "25d201d8",
   "metadata": {
    "papermill": {
     "duration": 0.003901,
     "end_time": "2022-05-28T03:53:22.131288",
     "exception": false,
     "start_time": "2022-05-28T03:53:22.127387",
     "status": "completed"
    },
    "tags": []
   },
   "source": [
    "**We want to convert the chemical text data to one hot representations and then stack those representations into a single array per example**\n",
    "\n",
    "One hot encoding is simply encoding a \"sparse\" value as a \"dense\" array.\n",
    "* For a test with 3 possible values [0,1,2] we have the following possible one-hot 'values'\n",
    "\n",
    "```\n",
    "  * 0 --> [1, 0, 0]\n",
    "  * 1 --> [0, 1, 0]\n",
    "  * 2 --> [0, 0, 1]\n",
    "```\n",
    "\n",
    "* Now consider that we have 12 tests... and each have 3 possible sparse values. We can represent a single *example's* worth of tests with a 12x3 matrix or a array of length 36.\n",
    "  * Each test can be represented w/ a 1x3 matrix (the one-hot representation)\n",
    "  * Then we just stack them"
   ]
  },
  {
   "cell_type": "code",
   "execution_count": 5,
   "id": "7ea889dd",
   "metadata": {
    "execution": {
     "iopub.execute_input": "2022-05-28T03:53:22.141738Z",
     "iopub.status.busy": "2022-05-28T03:53:22.140790Z",
     "iopub.status.idle": "2022-05-28T03:53:22.168799Z",
     "shell.execute_reply": "2022-05-28T03:53:22.167725Z"
    },
    "papermill": {
     "duration": 0.035288,
     "end_time": "2022-05-28T03:53:22.170823",
     "exception": false,
     "start_time": "2022-05-28T03:53:22.135535",
     "status": "completed"
    },
    "tags": []
   },
   "outputs": [
    {
     "data": {
      "text/html": [
       "<div>\n",
       "<style scoped>\n",
       "    .dataframe tbody tr th:only-of-type {\n",
       "        vertical-align: middle;\n",
       "    }\n",
       "\n",
       "    .dataframe tbody tr th {\n",
       "        vertical-align: top;\n",
       "    }\n",
       "\n",
       "    .dataframe thead th {\n",
       "        text-align: right;\n",
       "    }\n",
       "</style>\n",
       "<table border=\"1\" class=\"dataframe\">\n",
       "  <thead>\n",
       "    <tr style=\"text-align: right;\">\n",
       "      <th></th>\n",
       "      <th>car_type</th>\n",
       "    </tr>\n",
       "  </thead>\n",
       "  <tbody>\n",
       "    <tr>\n",
       "      <th>0</th>\n",
       "      <td>dodge</td>\n",
       "    </tr>\n",
       "    <tr>\n",
       "      <th>1</th>\n",
       "      <td>toyota</td>\n",
       "    </tr>\n",
       "    <tr>\n",
       "      <th>2</th>\n",
       "      <td>mazda</td>\n",
       "    </tr>\n",
       "  </tbody>\n",
       "</table>\n",
       "</div>"
      ],
      "text/plain": [
       "  car_type\n",
       "0    dodge\n",
       "1   toyota\n",
       "2    mazda"
      ]
     },
     "metadata": {},
     "output_type": "display_data"
    },
    {
     "data": {
      "text/html": [
       "<div>\n",
       "<style scoped>\n",
       "    .dataframe tbody tr th:only-of-type {\n",
       "        vertical-align: middle;\n",
       "    }\n",
       "\n",
       "    .dataframe tbody tr th {\n",
       "        vertical-align: top;\n",
       "    }\n",
       "\n",
       "    .dataframe thead th {\n",
       "        text-align: right;\n",
       "    }\n",
       "</style>\n",
       "<table border=\"1\" class=\"dataframe\">\n",
       "  <thead>\n",
       "    <tr style=\"text-align: right;\">\n",
       "      <th></th>\n",
       "      <th>car_type_dodge</th>\n",
       "      <th>car_type_mazda</th>\n",
       "      <th>car_type_toyota</th>\n",
       "    </tr>\n",
       "  </thead>\n",
       "  <tbody>\n",
       "    <tr>\n",
       "      <th>0</th>\n",
       "      <td>1</td>\n",
       "      <td>0</td>\n",
       "      <td>0</td>\n",
       "    </tr>\n",
       "    <tr>\n",
       "      <th>1</th>\n",
       "      <td>0</td>\n",
       "      <td>0</td>\n",
       "      <td>1</td>\n",
       "    </tr>\n",
       "    <tr>\n",
       "      <th>2</th>\n",
       "      <td>0</td>\n",
       "      <td>1</td>\n",
       "      <td>0</td>\n",
       "    </tr>\n",
       "  </tbody>\n",
       "</table>\n",
       "</div>"
      ],
      "text/plain": [
       "   car_type_dodge  car_type_mazda  car_type_toyota\n",
       "0               1               0                0\n",
       "1               0               0                1\n",
       "2               0               1                0"
      ]
     },
     "execution_count": 5,
     "metadata": {},
     "output_type": "execute_result"
    }
   ],
   "source": [
    "display(pd.DataFrame(data=[\"dodge\", \"toyota\", \"mazda\"], columns=[\"car_type\"]))\n",
    "pd.get_dummies(pd.DataFrame(data=[\"dodge\", \"toyota\", \"mazda\"], columns=[\"car_type\"]))"
   ]
  },
  {
   "cell_type": "code",
   "execution_count": 6,
   "id": "e46d26b2",
   "metadata": {
    "execution": {
     "iopub.execute_input": "2022-05-28T03:53:22.181422Z",
     "iopub.status.busy": "2022-05-28T03:53:22.181007Z",
     "iopub.status.idle": "2022-05-28T03:53:22.296219Z",
     "shell.execute_reply": "2022-05-28T03:53:22.295176Z"
    },
    "papermill": {
     "duration": 0.123253,
     "end_time": "2022-05-28T03:53:22.298628",
     "exception": false,
     "start_time": "2022-05-28T03:53:22.175375",
     "status": "completed"
    },
    "tags": []
   },
   "outputs": [],
   "source": [
    "tox_df_features = pd.get_dummies(tox_df[FEATURE_COLS].astype(str))\n",
    "test_shape = tox_df_features.shape[-1]"
   ]
  },
  {
   "cell_type": "code",
   "execution_count": 7,
   "id": "9d6cb0d2",
   "metadata": {
    "execution": {
     "iopub.execute_input": "2022-05-28T03:53:22.309900Z",
     "iopub.status.busy": "2022-05-28T03:53:22.309418Z",
     "iopub.status.idle": "2022-05-28T03:53:22.313822Z",
     "shell.execute_reply": "2022-05-28T03:53:22.313140Z"
    },
    "papermill": {
     "duration": 0.012497,
     "end_time": "2022-05-28T03:53:22.315847",
     "exception": false,
     "start_time": "2022-05-28T03:53:22.303350",
     "status": "completed"
    },
    "tags": []
   },
   "outputs": [],
   "source": [
    "def flatten_l_o_l(nested_list):\n",
    "    \"\"\" Flatten a list of lists \"\"\"\n",
    "    return [item for sublist in nested_list for item in sublist]"
   ]
  },
  {
   "cell_type": "code",
   "execution_count": 8,
   "id": "2ddaf526",
   "metadata": {
    "execution": {
     "iopub.execute_input": "2022-05-28T03:53:22.326714Z",
     "iopub.status.busy": "2022-05-28T03:53:22.326299Z",
     "iopub.status.idle": "2022-05-28T03:53:22.402561Z",
     "shell.execute_reply": "2022-05-28T03:53:22.401615Z"
    },
    "papermill": {
     "duration": 0.084322,
     "end_time": "2022-05-28T03:53:22.404899",
     "exception": false,
     "start_time": "2022-05-28T03:53:22.320577",
     "status": "completed"
    },
    "tags": []
   },
   "outputs": [],
   "source": [
    "# Figure stuff out\n",
    "tox_df[\"smile_chars\"] = tox_df[\"smiles\"].apply(list)\n",
    "tox_df[\"smile_len\"] = tox_df[\"smiles\"].apply(len)\n",
    "max_smile_len = tox_df[\"smile_len\"].max()\n",
    "tox_charlist = tox_df[\"smile_chars\"].to_list()\n",
    "all_smile_chars = flatten_l_o_l(tox_charlist)\n",
    "smile_char_counts = pd.Series(all_smile_chars).value_counts()\n",
    "possible_smile_chars = list(smile_char_counts.keys())\n",
    "n_smile_elems = len(possible_smile_chars)+1\n",
    "smile_char_map_c2i = {_c:i+1 for i,_c in enumerate(possible_smile_chars)}\n",
    "smile_char_map_c2i.update({\"<PAD>\":0})\n",
    "smile_char_map_i2c = {i+1:_c for i,_c in enumerate(possible_smile_chars)}\n",
    "smile_char_map_i2c.update({0:\"<PAD>\"})"
   ]
  },
  {
   "cell_type": "code",
   "execution_count": 9,
   "id": "2c9f1654",
   "metadata": {
    "execution": {
     "iopub.execute_input": "2022-05-28T03:53:22.415474Z",
     "iopub.status.busy": "2022-05-28T03:53:22.415112Z",
     "iopub.status.idle": "2022-05-28T03:53:22.558827Z",
     "shell.execute_reply": "2022-05-28T03:53:22.558022Z"
    },
    "papermill": {
     "duration": 0.151513,
     "end_time": "2022-05-28T03:53:22.561008",
     "exception": false,
     "start_time": "2022-05-28T03:53:22.409495",
     "status": "completed"
    },
    "tags": []
   },
   "outputs": [],
   "source": [
    "def encode_smiles(smile_chars, max_len, pad_token=\"<PAD>\", pad_int=0):\n",
    "    smile_encoding = [smile_char_map_c2i[_c] for _c in smile_chars]\n",
    "    smile_encoding = smile_encoding+[pad_int,]*max_len\n",
    "    return smile_encoding[:max_len]\n",
    "\n",
    "tox_df[\"smile_encoding\"] = tox_df[\"smile_chars\"].apply(lambda x: encode_smiles(smile_chars=x, max_len=max_smile_len))"
   ]
  },
  {
   "cell_type": "markdown",
   "id": "82b8ac72",
   "metadata": {
    "papermill": {
     "duration": 0.004427,
     "end_time": "2022-05-28T03:53:22.570012",
     "exception": false,
     "start_time": "2022-05-28T03:53:22.565585",
     "status": "completed"
    },
    "tags": []
   },
   "source": [
    "### Our Model\n",
    "\n",
    "---\n",
    "\n",
    "Inputs:\n",
    "* Smile Information\n",
    "* Test Information\n",
    "    * Vector of length 36 (12 tests one hot encoded)\n",
    "\n",
    "Outputs:\n",
    "* Toxicity"
   ]
  },
  {
   "cell_type": "code",
   "execution_count": 10,
   "id": "06b05a7d",
   "metadata": {
    "execution": {
     "iopub.execute_input": "2022-05-28T03:53:22.580752Z",
     "iopub.status.busy": "2022-05-28T03:53:22.580084Z",
     "iopub.status.idle": "2022-05-28T03:53:22.741843Z",
     "shell.execute_reply": "2022-05-28T03:53:22.740952Z"
    },
    "papermill": {
     "duration": 0.170102,
     "end_time": "2022-05-28T03:53:22.744482",
     "exception": false,
     "start_time": "2022-05-28T03:53:22.574380",
     "status": "completed"
    },
    "tags": []
   },
   "outputs": [
    {
     "name": "stdout",
     "output_type": "stream",
     "text": [
      "Model: \"model\"\n",
      "__________________________________________________________________________________________________\n",
      "Layer (type)                    Output Shape         Param #     Connected to                     \n",
      "==================================================================================================\n",
      "input_2 (InputLayer)            [(None, 342)]        0                                            \n",
      "__________________________________________________________________________________________________\n",
      "input_1 (InputLayer)            [(None, 36)]         0                                            \n",
      "__________________________________________________________________________________________________\n",
      "embedding (Embedding)           (None, 342, 64)      3584        input_2[0][0]                    \n",
      "__________________________________________________________________________________________________\n",
      "dense (Dense)                   (None, 64)           2368        input_1[0][0]                    \n",
      "__________________________________________________________________________________________________\n",
      "global_average_pooling1d (Globa (None, 64)           0           embedding[0][0]                  \n",
      "__________________________________________________________________________________________________\n",
      "concatenate (Concatenate)       (None, 128)          0           dense[0][0]                      \n",
      "                                                                 global_average_pooling1d[0][0]   \n",
      "__________________________________________________________________________________________________\n",
      "dropout (Dropout)               (None, 128)          0           concatenate[0][0]                \n",
      "__________________________________________________________________________________________________\n",
      "dense_1 (Dense)                 (None, 1)            129         dropout[0][0]                    \n",
      "==================================================================================================\n",
      "Total params: 6,081\n",
      "Trainable params: 6,081\n",
      "Non-trainable params: 0\n",
      "__________________________________________________________________________________________________\n"
     ]
    },
    {
     "name": "stderr",
     "output_type": "stream",
     "text": [
      "2022-05-28 03:53:22.650826: I tensorflow/core/common_runtime/process_util.cc:146] Creating new thread pool with default inter op setting: 2. Tune using inter_op_parallelism_threads for best performance.\n"
     ]
    }
   ],
   "source": [
    "def get_model(test_shape, n_vocab, smiles_seq_len, n_test_dense=64, n_test_smiles=64, dropout=0.25):\n",
    "    \n",
    "    # Path 1\n",
    "    test_input = tf.keras.layers.Input(shape=(test_shape,))\n",
    "    test_output = tf.keras.layers.Dense(n_test_dense, activation=\"relu\")(test_input)\n",
    "    \n",
    "    \n",
    "    # Path 2\n",
    "    smiles_input = tf.keras.layers.Input(shape=(smiles_seq_len,))\n",
    "    smiles_output = tf.keras.layers.Embedding(n_vocab, n_test_smiles, input_length=smiles_seq_len, mask_zero=True, )(smiles_input)\n",
    "    smiles_output = tf.keras.layers.GlobalAveragePooling1D()(smiles_output)\n",
    "\n",
    "    combined_output = tf.keras.layers.Concatenate()([test_output, smiles_output])\n",
    "    combined_output = tf.keras.layers.Dropout(dropout)(combined_output)\n",
    "    \n",
    "    _inputs = [smiles_input, test_input]\n",
    "    _outputs = tf.keras.layers.Dense(1, activation=\"sigmoid\")(combined_output)\n",
    "    \n",
    "    return tf.keras.Model(inputs=_inputs, outputs=_outputs)\n",
    "\n",
    "model = get_model(test_shape=test_shape, n_vocab=n_smile_elems, smiles_seq_len=max_smile_len)\n",
    "model.summary()"
   ]
  },
  {
   "cell_type": "code",
   "execution_count": 11,
   "id": "923a4785",
   "metadata": {
    "execution": {
     "iopub.execute_input": "2022-05-28T03:53:22.756537Z",
     "iopub.status.busy": "2022-05-28T03:53:22.754484Z",
     "iopub.status.idle": "2022-05-28T03:53:22.769698Z",
     "shell.execute_reply": "2022-05-28T03:53:22.768907Z"
    },
    "papermill": {
     "duration": 0.022708,
     "end_time": "2022-05-28T03:53:22.771669",
     "exception": false,
     "start_time": "2022-05-28T03:53:22.748961",
     "status": "completed"
    },
    "tags": []
   },
   "outputs": [],
   "source": [
    "OPTIMIZER = \"adam\"\n",
    "LOSS = \"binary_crossentropy\"\n",
    "METRICS = \"acc\"\n",
    "model.compile(optimizer=OPTIMIZER, loss=LOSS, metrics=[METRICS]) # tf.keras.metrics.AUC()"
   ]
  },
  {
   "cell_type": "code",
   "execution_count": 12,
   "id": "2e8262e8",
   "metadata": {
    "execution": {
     "iopub.execute_input": "2022-05-28T03:53:22.783527Z",
     "iopub.status.busy": "2022-05-28T03:53:22.782569Z",
     "iopub.status.idle": "2022-05-28T03:53:23.135176Z",
     "shell.execute_reply": "2022-05-28T03:53:23.134211Z"
    },
    "papermill": {
     "duration": 0.361268,
     "end_time": "2022-05-28T03:53:23.137564",
     "exception": false,
     "start_time": "2022-05-28T03:53:22.776296",
     "status": "completed"
    },
    "tags": []
   },
   "outputs": [],
   "source": [
    "# Define number of validation examples\n",
    "n_val = 1758\n",
    "# n_val = 10000\n",
    "val_indices = np.array(random.sample(range(len(tox_df)), n_val))\n",
    "train_indices = np.array([x for x in range(len(tox_df)) if x not in val_indices])\n",
    "\n",
    "# Get the training data as numpy arrays - (11758, N)\n",
    "train_x_test = tox_df_features.to_numpy().copy()\n",
    "# train_x_test[:, :16] = 0\n",
    "train_x_smiles = np.array(tox_df.smile_encoding.to_list())\n",
    "train_y = tox_df.Toxic.to_numpy()\n",
    "\n",
    "# Take the first M training examples to use for validation \n",
    "val_x_test = train_x_test[val_indices]\n",
    "val_x_smiles = train_x_smiles[val_indices]\n",
    "val_y = train_y[val_indices]\n",
    "N_VAL = len(val_y)\n",
    "\n",
    "# Take the remaining training examples to use for training\n",
    "train_x_test = train_x_test[train_indices]\n",
    "train_x_smiles = train_x_smiles[train_indices]\n",
    "train_y = train_y[train_indices]\n",
    "N_TRAIN = len(train_y)"
   ]
  },
  {
   "cell_type": "code",
   "execution_count": 13,
   "id": "f71a0560",
   "metadata": {
    "execution": {
     "iopub.execute_input": "2022-05-28T03:53:23.148671Z",
     "iopub.status.busy": "2022-05-28T03:53:23.148058Z",
     "iopub.status.idle": "2022-05-28T03:53:34.334664Z",
     "shell.execute_reply": "2022-05-28T03:53:34.333392Z"
    },
    "papermill": {
     "duration": 11.194803,
     "end_time": "2022-05-28T03:53:34.337112",
     "exception": false,
     "start_time": "2022-05-28T03:53:23.142309",
     "status": "completed"
    },
    "tags": []
   },
   "outputs": [
    {
     "name": "stderr",
     "output_type": "stream",
     "text": [
      "2022-05-28 03:53:23.250186: I tensorflow/compiler/mlir/mlir_graph_optimization_pass.cc:185] None of the MLIR Optimization Passes are enabled (registered 2)\n"
     ]
    },
    {
     "name": "stdout",
     "output_type": "stream",
     "text": [
      "Epoch 1/10\n",
      "157/157 [==============================] - 2s 6ms/step - loss: 0.2714 - acc: 0.8847 - val_loss: 0.1324 - val_acc: 0.9505\n",
      "Epoch 2/10\n",
      "157/157 [==============================] - 1s 5ms/step - loss: 0.1013 - acc: 0.9665 - val_loss: 0.0642 - val_acc: 0.9801\n",
      "Epoch 3/10\n",
      "157/157 [==============================] - 1s 6ms/step - loss: 0.0576 - acc: 0.9845 - val_loss: 0.0365 - val_acc: 0.9972\n",
      "Epoch 4/10\n",
      "157/157 [==============================] - 1s 6ms/step - loss: 0.0353 - acc: 0.9963 - val_loss: 0.0215 - val_acc: 1.0000\n",
      "Epoch 5/10\n",
      "157/157 [==============================] - 1s 5ms/step - loss: 0.0229 - acc: 0.9992 - val_loss: 0.0134 - val_acc: 1.0000\n",
      "Epoch 6/10\n",
      "157/157 [==============================] - 1s 5ms/step - loss: 0.0150 - acc: 0.9997 - val_loss: 0.0084 - val_acc: 1.0000\n",
      "Epoch 7/10\n",
      "157/157 [==============================] - 1s 6ms/step - loss: 0.0109 - acc: 0.9997 - val_loss: 0.0058 - val_acc: 1.0000\n",
      "Epoch 8/10\n",
      "157/157 [==============================] - 1s 5ms/step - loss: 0.0072 - acc: 0.9998 - val_loss: 0.0039 - val_acc: 1.0000\n",
      "Epoch 9/10\n",
      "157/157 [==============================] - 1s 5ms/step - loss: 0.0055 - acc: 1.0000 - val_loss: 0.0029 - val_acc: 1.0000\n",
      "Epoch 10/10\n",
      "157/157 [==============================] - 1s 5ms/step - loss: 0.0043 - acc: 0.9999 - val_loss: 0.0021 - val_acc: 1.0000\n"
     ]
    }
   ],
   "source": [
    "BATCH_SIZE = 64\n",
    "N_EPOCHS = 10 \n",
    "\n",
    "# class_weight\n",
    "history = model.fit(x=(train_x_smiles, train_x_test), y=train_y, validation_data=((val_x_smiles, val_x_test), val_y), batch_size=BATCH_SIZE, epochs=N_EPOCHS)"
   ]
  },
  {
   "cell_type": "code",
   "execution_count": 14,
   "id": "d27d0bb0",
   "metadata": {
    "execution": {
     "iopub.execute_input": "2022-05-28T03:53:34.376688Z",
     "iopub.status.busy": "2022-05-28T03:53:34.376073Z",
     "iopub.status.idle": "2022-05-28T03:53:34.416045Z",
     "shell.execute_reply": "2022-05-28T03:53:34.415006Z"
    },
    "papermill": {
     "duration": 0.065469,
     "end_time": "2022-05-28T03:53:34.418795",
     "exception": false,
     "start_time": "2022-05-28T03:53:34.353326",
     "status": "completed"
    },
    "tags": []
   },
   "outputs": [],
   "source": [
    "model.save('smartmodel.h5')"
   ]
  }
 ],
 "metadata": {
  "kernelspec": {
   "display_name": "Python 3",
   "language": "python",
   "name": "python3"
  },
  "language_info": {
   "codemirror_mode": {
    "name": "ipython",
    "version": 3
   },
   "file_extension": ".py",
   "mimetype": "text/x-python",
   "name": "python",
   "nbconvert_exporter": "python",
   "pygments_lexer": "ipython3",
   "version": "3.7.12"
  },
  "papermill": {
   "default_parameters": {},
   "duration": 32.500194,
   "end_time": "2022-05-28T03:53:38.046676",
   "environment_variables": {},
   "exception": null,
   "input_path": "__notebook__.ipynb",
   "output_path": "__notebook__.ipynb",
   "parameters": {},
   "start_time": "2022-05-28T03:53:05.546482",
   "version": "2.3.4"
  }
 },
 "nbformat": 4,
 "nbformat_minor": 5
}
